{
 "cells": [
  {
   "cell_type": "code",
   "execution_count": 1,
   "id": "82b63dc6",
   "metadata": {
    "scrolled": true
   },
   "outputs": [],
   "source": [
    "import pandas as pd\n",
    "\n",
    "df = pd.read_csv(\"cleaned_covid.csv\")"
   ]
  },
  {
   "cell_type": "code",
   "execution_count": 4,
   "id": "70367505",
   "metadata": {},
   "outputs": [
    {
     "name": "stderr",
     "output_type": "stream",
     "text": [
      "C:\\Users\\hp\\AppData\\Local\\Temp\\ipykernel_3884\\3399101838.py:8: SettingWithCopyWarning: \n",
      "A value is trying to be set on a copy of a slice from a DataFrame\n",
      "\n",
      "See the caveats in the documentation: https://pandas.pydata.org/pandas-docs/stable/user_guide/indexing.html#returning-a-view-versus-a-copy\n",
      "  demographic.drop_duplicates(inplace = True, ignore_index= True)\n",
      "C:\\Users\\hp\\AppData\\Local\\Temp\\ipykernel_3884\\3399101838.py:9: SettingWithCopyWarning: \n",
      "A value is trying to be set on a copy of a slice from a DataFrame.\n",
      "Try using .loc[row_indexer,col_indexer] = value instead\n",
      "\n",
      "See the caveats in the documentation: https://pandas.pydata.org/pandas-docs/stable/user_guide/indexing.html#returning-a-view-versus-a-copy\n",
      "  demographic['Demographic ID'] = range(1, len(demographic) + 1)\n"
     ]
    }
   ],
   "source": [
    "demographic = df[[\"population\",\n",
    "\"population_density\",\n",
    "\"median_age\",\n",
    "\"aged_65_older\",\n",
    "\"aged_70_older\",\n",
    "\"gdp_per_capita\",\n",
    "\"extreme_poverty\"]]\n",
    "demographic.drop_duplicates(inplace = True, ignore_index= True)\n",
    "demographic['Demographic ID'] = range(1, len(demographic) + 1)\n",
    "demographic.to_csv(\"Datas/demographic.csv\",index= False)"
   ]
  },
  {
   "cell_type": "code",
   "execution_count": 2,
   "id": "b4cfa8d0",
   "metadata": {
    "scrolled": true
   },
   "outputs": [
    {
     "name": "stderr",
     "output_type": "stream",
     "text": [
      "C:\\Users\\hp\\AppData\\Local\\Temp\\ipykernel_12436\\2723940083.py:2: SettingWithCopyWarning: \n",
      "A value is trying to be set on a copy of a slice from a DataFrame\n",
      "\n",
      "See the caveats in the documentation: https://pandas.pydata.org/pandas-docs/stable/user_guide/indexing.html#returning-a-view-versus-a-copy\n",
      "  location.drop_duplicates(inplace = True, ignore_index= True)\n"
     ]
    }
   ],
   "source": [
    "location = df[[\"iso_code\",\"continent\",\"location\"]]\n",
    "location.drop_duplicates(inplace = True, ignore_index= True)\n",
    "# location['Location ID'] = range(1, len(location) + 1)\n",
    "location.to_csv(\"Datas/Locations.csv\",index= False, columns=[\"iso_code\",\"continent\",\"location\"])"
   ]
  },
  {
   "cell_type": "code",
   "execution_count": 6,
   "id": "7bb997b7",
   "metadata": {
    "scrolled": true
   },
   "outputs": [
    {
     "name": "stderr",
     "output_type": "stream",
     "text": [
      "C:\\Users\\hp\\AppData\\Local\\Temp\\ipykernel_3884\\660521943.py:5: SettingWithCopyWarning: \n",
      "A value is trying to be set on a copy of a slice from a DataFrame\n",
      "\n",
      "See the caveats in the documentation: https://pandas.pydata.org/pandas-docs/stable/user_guide/indexing.html#returning-a-view-versus-a-copy\n",
      "  Medical.drop_duplicates(inplace = True, ignore_index= True)\n",
      "C:\\Users\\hp\\AppData\\Local\\Temp\\ipykernel_3884\\660521943.py:6: SettingWithCopyWarning: \n",
      "A value is trying to be set on a copy of a slice from a DataFrame.\n",
      "Try using .loc[row_indexer,col_indexer] = value instead\n",
      "\n",
      "See the caveats in the documentation: https://pandas.pydata.org/pandas-docs/stable/user_guide/indexing.html#returning-a-view-versus-a-copy\n",
      "  Medical['Medical ID'] = range(1, len(Medical) + 1)\n"
     ]
    }
   ],
   "source": [
    "Medical = df[[\"icu_patients\",\n",
    "\"hosp_patients\",\n",
    "\"weekly_icu_admissions\",\n",
    "\"weekly_hosp_admissions\"]]\n",
    "Medical.drop_duplicates(inplace = True, ignore_index= True)\n",
    "Medical['Medical ID'] = range(1, len(Medical) + 1)\n",
    "Medical.to_csv(\"Datas/Medical.csv\",index= False)"
   ]
  },
  {
   "cell_type": "code",
   "execution_count": 7,
   "id": "1ca4ca3d",
   "metadata": {
    "scrolled": true
   },
   "outputs": [
    {
     "name": "stderr",
     "output_type": "stream",
     "text": [
      "C:\\Users\\hp\\AppData\\Local\\Temp\\ipykernel_3884\\1366229902.py:12: SettingWithCopyWarning: \n",
      "A value is trying to be set on a copy of a slice from a DataFrame\n",
      "\n",
      "See the caveats in the documentation: https://pandas.pydata.org/pandas-docs/stable/user_guide/indexing.html#returning-a-view-versus-a-copy\n",
      "  Vaccination.drop_duplicates(inplace = True, ignore_index= True)\n",
      "C:\\Users\\hp\\AppData\\Local\\Temp\\ipykernel_3884\\1366229902.py:13: SettingWithCopyWarning: \n",
      "A value is trying to be set on a copy of a slice from a DataFrame.\n",
      "Try using .loc[row_indexer,col_indexer] = value instead\n",
      "\n",
      "See the caveats in the documentation: https://pandas.pydata.org/pandas-docs/stable/user_guide/indexing.html#returning-a-view-versus-a-copy\n",
      "  Vaccination['Vaccination ID'] = range(1, len(Vaccination) + 1)\n"
     ]
    }
   ],
   "source": [
    "Vaccination = df[[\n",
    "    \"total_tests\",\n",
    "    \"new_tests\",\n",
    "    \"positive_rate\",\n",
    "    \"tests_per_case\",\n",
    "    \"tests_units\",\n",
    "    \"total_vaccinations\",\n",
    "    \"people_vaccinated\",\n",
    "    \"people_fully_vaccinated\",\n",
    "    \"total_boosters\",\n",
    "    \"new_vaccinations\"]]\n",
    "Vaccination.drop_duplicates(inplace = True, ignore_index= True)\n",
    "Vaccination['Vaccination ID'] = range(1, len(Vaccination) + 1)\n",
    "Vaccination.to_csv(\"Datas/Vaccination.csv\",index= False)"
   ]
  },
  {
   "cell_type": "code",
   "execution_count": 8,
   "id": "613f5a34",
   "metadata": {
    "scrolled": true
   },
   "outputs": [
    {
     "name": "stderr",
     "output_type": "stream",
     "text": [
      "C:\\Users\\hp\\AppData\\Local\\Temp\\ipykernel_3884\\4154971483.py:14: SettingWithCopyWarning: \n",
      "A value is trying to be set on a copy of a slice from a DataFrame\n",
      "\n",
      "See the caveats in the documentation: https://pandas.pydata.org/pandas-docs/stable/user_guide/indexing.html#returning-a-view-versus-a-copy\n",
      "  Other.drop_duplicates(inplace = True, ignore_index= True)\n",
      "C:\\Users\\hp\\AppData\\Local\\Temp\\ipykernel_3884\\4154971483.py:15: SettingWithCopyWarning: \n",
      "A value is trying to be set on a copy of a slice from a DataFrame.\n",
      "Try using .loc[row_indexer,col_indexer] = value instead\n",
      "\n",
      "See the caveats in the documentation: https://pandas.pydata.org/pandas-docs/stable/user_guide/indexing.html#returning-a-view-versus-a-copy\n",
      "  Other['Prevention ID'] = range(1, len(Other) + 1)\n"
     ]
    }
   ],
   "source": [
    "Other = df[[\n",
    "    'stringency_index',\n",
    "    'cardiovasc_death_rate',\n",
    "    'diabetes_prevalence',\n",
    "    'female_smokers',\n",
    "    'male_smokers',\n",
    "    'handwashing_facilities',\n",
    "    'hospital_beds_per_thousand',\n",
    "    'life_expectancy',\n",
    "    'human_development_index',\n",
    "    'excess_mortality_cumulative_absolute',\n",
    "    'excess_mortality_cumulative',\n",
    "    'excess_mortality']]\n",
    "Other.drop_duplicates(inplace = True, ignore_index= True)\n",
    "Other['Prevention ID'] = range(1, len(Other) + 1)\n",
    "Other.to_csv(\"Datas/Other.csv\",index= False)"
   ]
  },
  {
   "cell_type": "code",
   "execution_count": 3,
   "id": "2e5b2391",
   "metadata": {
    "scrolled": true
   },
   "outputs": [
    {
     "ename": "NameError",
     "evalue": "name 'demographic' is not defined",
     "output_type": "error",
     "traceback": [
      "\u001b[1;31m---------------------------------------------------------------------------\u001b[0m",
      "\u001b[1;31mNameError\u001b[0m                                 Traceback (most recent call last)",
      "Input \u001b[1;32mIn [3]\u001b[0m, in \u001b[0;36m<cell line: 2>\u001b[1;34m()\u001b[0m\n\u001b[0;32m      1\u001b[0m fact \u001b[38;5;241m=\u001b[39m df\n\u001b[1;32m----> 2\u001b[0m fact \u001b[38;5;241m=\u001b[39m fact\u001b[38;5;241m.\u001b[39mmerge(\u001b[43mdemographic\u001b[49m, how \u001b[38;5;241m=\u001b[39m \u001b[38;5;124m'\u001b[39m\u001b[38;5;124mleft\u001b[39m\u001b[38;5;124m'\u001b[39m, on \u001b[38;5;241m=\u001b[39m [\u001b[38;5;124m\"\u001b[39m\u001b[38;5;124mpopulation\u001b[39m\u001b[38;5;124m\"\u001b[39m,\u001b[38;5;124m\"\u001b[39m\u001b[38;5;124mpopulation_density\u001b[39m\u001b[38;5;124m\"\u001b[39m,\u001b[38;5;124m\"\u001b[39m\u001b[38;5;124mmedian_age\u001b[39m\u001b[38;5;124m\"\u001b[39m,\u001b[38;5;124m\"\u001b[39m\u001b[38;5;124maged_65_older\u001b[39m\u001b[38;5;124m\"\u001b[39m,\u001b[38;5;124m\"\u001b[39m\u001b[38;5;124maged_70_older\u001b[39m\u001b[38;5;124m\"\u001b[39m,\u001b[38;5;124m\"\u001b[39m\u001b[38;5;124mgdp_per_capita\u001b[39m\u001b[38;5;124m\"\u001b[39m,\u001b[38;5;124m\"\u001b[39m\u001b[38;5;124mextreme_poverty\u001b[39m\u001b[38;5;124m\"\u001b[39m])\n\u001b[0;32m      3\u001b[0m fact \u001b[38;5;241m=\u001b[39m fact\u001b[38;5;241m.\u001b[39mmerge(Medical, how \u001b[38;5;241m=\u001b[39m \u001b[38;5;124m'\u001b[39m\u001b[38;5;124mleft\u001b[39m\u001b[38;5;124m'\u001b[39m, on \u001b[38;5;241m=\u001b[39m [\u001b[38;5;124m\"\u001b[39m\u001b[38;5;124micu_patients\u001b[39m\u001b[38;5;124m\"\u001b[39m,\u001b[38;5;124m\"\u001b[39m\u001b[38;5;124mhosp_patients\u001b[39m\u001b[38;5;124m\"\u001b[39m,\u001b[38;5;124m\"\u001b[39m\u001b[38;5;124mweekly_icu_admissions\u001b[39m\u001b[38;5;124m\"\u001b[39m,\u001b[38;5;124m\"\u001b[39m\u001b[38;5;124mweekly_hosp_admissions\u001b[39m\u001b[38;5;124m\"\u001b[39m])\n\u001b[0;32m      4\u001b[0m fact \u001b[38;5;241m=\u001b[39m fact\u001b[38;5;241m.\u001b[39mmerge(Vaccination, how \u001b[38;5;241m=\u001b[39m \u001b[38;5;124m'\u001b[39m\u001b[38;5;124mleft\u001b[39m\u001b[38;5;124m'\u001b[39m, on \u001b[38;5;241m=\u001b[39m [\u001b[38;5;124m\"\u001b[39m\u001b[38;5;124mtotal_tests\u001b[39m\u001b[38;5;124m\"\u001b[39m,\u001b[38;5;124m\"\u001b[39m\u001b[38;5;124mnew_tests\u001b[39m\u001b[38;5;124m\"\u001b[39m,\u001b[38;5;124m\"\u001b[39m\u001b[38;5;124mpositive_rate\u001b[39m\u001b[38;5;124m\"\u001b[39m,\u001b[38;5;124m\"\u001b[39m\u001b[38;5;124mtests_per_case\u001b[39m\u001b[38;5;124m\"\u001b[39m,\u001b[38;5;124m\"\u001b[39m\u001b[38;5;124mtests_units\u001b[39m\u001b[38;5;124m\"\u001b[39m,\u001b[38;5;124m\"\u001b[39m\u001b[38;5;124mtotal_vaccinations\u001b[39m\u001b[38;5;124m\"\u001b[39m,\u001b[38;5;124m\"\u001b[39m\u001b[38;5;124mpeople_vaccinated\u001b[39m\u001b[38;5;124m\"\u001b[39m,\u001b[38;5;124m\"\u001b[39m\u001b[38;5;124mpeople_fully_vaccinated\u001b[39m\u001b[38;5;124m\"\u001b[39m,\u001b[38;5;124m\"\u001b[39m\u001b[38;5;124mtotal_boosters\u001b[39m\u001b[38;5;124m\"\u001b[39m,\u001b[38;5;124m\"\u001b[39m\u001b[38;5;124mnew_vaccinations\u001b[39m\u001b[38;5;124m\"\u001b[39m])\n",
      "\u001b[1;31mNameError\u001b[0m: name 'demographic' is not defined"
     ]
    }
   ],
   "source": [
    "fact = df\n",
    "fact = fact.merge(demographic, how = 'left', on = [\"population\",\"population_density\",\"median_age\",\"aged_65_older\",\"aged_70_older\",\"gdp_per_capita\",\"extreme_poverty\"])\n",
    "fact = fact.merge(Medical, how = 'left', on = [\"icu_patients\",\"hosp_patients\",\"weekly_icu_admissions\",\"weekly_hosp_admissions\"])\n",
    "fact = fact.merge(Vaccination, how = 'left', on = [\"total_tests\",\"new_tests\",\"positive_rate\",\"tests_per_case\",\"tests_units\",\"total_vaccinations\",\"people_vaccinated\",\"people_fully_vaccinated\",\"total_boosters\",\"new_vaccinations\"])\n",
    "fact = fact.merge(Other, how = 'left', on = ['stringency_index','cardiovasc_death_rate','diabetes_prevalence','female_smokers','male_smokers','handwashing_facilities','hospital_beds_per_thousand','life_expectancy','human_development_index','excess_mortality_cumulative_absolute','excess_mortality_cumulative','excess_mortality'])\n",
    "fact"
   ]
  },
  {
   "cell_type": "code",
   "execution_count": 10,
   "id": "a897165c",
   "metadata": {},
   "outputs": [],
   "source": [
    "facttable = fact[['Location ID','date','Demographic ID','total_cases','new_cases','total_deaths','new_deaths','reproduction_rate','Medical ID','Vaccination ID','Prevention ID'\n",
    "]]\n",
    "\n",
    "facttable.to_csv(\"Datas/Fact.csv\",index= False)"
   ]
  }
 ],
 "metadata": {
  "kernelspec": {
   "display_name": "Python 3 (ipykernel)",
   "language": "python",
   "name": "python3"
  },
  "language_info": {
   "codemirror_mode": {
    "name": "ipython",
    "version": 3
   },
   "file_extension": ".py",
   "mimetype": "text/x-python",
   "name": "python",
   "nbconvert_exporter": "python",
   "pygments_lexer": "ipython3",
   "version": "3.10.0"
  }
 },
 "nbformat": 4,
 "nbformat_minor": 5
}
